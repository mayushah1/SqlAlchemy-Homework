{
 "cells": [
  {
   "cell_type": "markdown",
   "metadata": {},
   "source": [
    "## Step 3 - Climate Analysis and Exploration\n",
    "\n",
    "You are now ready to use Python and SQLAlchemy to do basic climate analysis and data exploration on your new weather station tables. All of the following analysis should be completed using SQLAlchemy ORM queries, Pandas, and Matplotlib.\n",
    "\n",
    "* Create a Jupyter Notebook file called `climate_analysis.ipynb` and use it to complete your climate analysis and data exporation.\n",
    "\n",
    "* Choose a start date and end date for your trip. Make sure that your vacation range is approximately 3-15 days total.\n",
    "\n",
    "* Use SQLAlchemy `create_engine` to connect to your sqlite database.\n",
    "\n",
    "* Use SQLAlchemy `automap_base()` to reflect your tables into classes and save a reference to those classes called `Station` and `Measurement`.\n",
    "\n",
    "### Precipitation Analysis\n",
    "\n",
    "* Design a query to retrieve the last 12 months of precipitation data.\n",
    "\n",
    "* Select only the `date` and `prcp` values.\n",
    "\n",
    "* Load the query results into a Pandas DataFrame and set the index to the date column.\n",
    "\n",
    "* Plot the results using the DataFrame `plot` method.\n",
    "\n",
    "* Use Pandas to print the summary statistics for the precipitation data.\n",
    "\n",
    "### Station Analysis\n",
    "\n",
    "* Design a query to calculate the total number of stations.\n",
    "\n",
    "* Design a query to find the most active stations.\n",
    "\n",
    "  * List the stations and observation counts in descending order\n",
    "\n",
    "  * Which station has the highest number of observations?\n",
    "\n",
    "* Design a query to retrieve the last 12 months of temperature observation data (tobs).\n",
    "\n",
    "  * Filter by the station with the highest number of observations.\n",
    "\n",
    "  * Plot the results as a histogram with `bins=12`.\n",
    "\n",
    "### Temperature Analysis\n",
    "\n",
    "* Write a function called `calc_temps` that will accept a start date and end date in the format `%Y-%m-%d` and return the minimum, average, and maximum temperatures for that range of dates.\n",
    "\n",
    "* Use the `calc_temps` function to calculate the min, avg, and max temperatures for your trip using the matching dates from the previous year (i.e. use \"2017-01-01\" if your trip start date was \"2018-01-01\")\n",
    "\n",
    "* Plot the min, avg, and max temperature from your previous query as a bar chart.\n",
    "\n",
    "  * Use the average temperature as the bar height.\n",
    "\n",
    "  * Use the peak-to-peak (tmax-tmin) value as the y error bar (yerr).\n"
   ]
  },
  {
   "cell_type": "code",
   "execution_count": 2,
   "metadata": {
    "collapsed": true
   },
   "outputs": [],
   "source": [
    "# Dependencies and boilerplate\n",
    "import pandas as pd\n",
    "import numpy as np\n",
    "import matplotlib.pyplot as plt\n",
    "import seaborn as sns\n",
    "from sqlalchemy import Column, Float, Integer, String\n",
    "import sqlalchemy\n",
    "from sqlalchemy.ext.automap import automap_base\n",
    "from sqlalchemy.sql.expression import func\n",
    "import datetime as dt"
   ]
  },
  {
   "cell_type": "code",
   "execution_count": 3,
   "metadata": {
    "collapsed": true
   },
   "outputs": [],
   "source": [
    "# # Use a Session to test the ORM classes for each table\n",
    "from sqlalchemy import create_engine, MetaData\n",
    "from sqlalchemy.orm import Session\n",
    "# Create an engine to a database file called \"hawaii.sqlite\"\n",
    "engine = create_engine('sqlite:///hawaii.sqlite')"
   ]
  },
  {
   "cell_type": "code",
   "execution_count": 4,
   "metadata": {},
   "outputs": [
    {
     "data": {
      "text/plain": [
       "['measurement', 'station']"
      ]
     },
     "execution_count": 4,
     "metadata": {},
     "output_type": "execute_result"
    }
   ],
   "source": [
    "# Use SQLAlchemy automap_base() to reflect your tables into \n",
    "# classes and save a reference to those classes called Station and Measurement.\n",
    "\n",
    "Base = automap_base()\n",
    "Base.prepare(engine, reflect=True)\n",
    "Base.classes.keys()"
   ]
  },
  {
   "cell_type": "code",
   "execution_count": 5,
   "metadata": {
    "collapsed": true
   },
   "outputs": [],
   "source": [
    "# Assign the measurement and station classes to a variable called `Measurement` and 'Station'\n",
    "Measurement = Base.classes.measurement\n",
    "Station = Base.classes.station\n"
   ]
  },
  {
   "cell_type": "code",
   "execution_count": 6,
   "metadata": {
    "collapsed": true
   },
   "outputs": [],
   "source": [
    "# Create a session\n",
    "session = Session(engine)"
   ]
  },
  {
   "cell_type": "code",
   "execution_count": 7,
   "metadata": {},
   "outputs": [
    {
     "data": {
      "text/plain": [
       "(19550, list)"
      ]
     },
     "execution_count": 7,
     "metadata": {},
     "output_type": "execute_result"
    }
   ],
   "source": [
    "#Check to see if all of the data was loaded and as what type\n",
    "meas = session.query(Measurement).all()\n",
    "len(meas), type(meas)"
   ]
  },
  {
   "cell_type": "code",
   "execution_count": 8,
   "metadata": {},
   "outputs": [
    {
     "data": {
      "text/plain": [
       "{'_sa_instance_state': <sqlalchemy.orm.state.InstanceState at 0x113b71b70>,\n",
       " 'date': '2010-01-01',\n",
       " 'id': 1,\n",
       " 'prcp': 0.08,\n",
       " 'station': 'USC00519397',\n",
       " 'tobs': 65}"
      ]
     },
     "execution_count": 8,
     "metadata": {},
     "output_type": "execute_result"
    }
   ],
   "source": [
    "# Display the row's columns and data in dictionary format\n",
    "first_row = session.query(Measurement).first()\n",
    "first_row.__dict__"
   ]
  },
  {
   "cell_type": "code",
   "execution_count": 9,
   "metadata": {},
   "outputs": [
    {
     "data": {
      "text/plain": [
       "(9, list)"
      ]
     },
     "execution_count": 9,
     "metadata": {},
     "output_type": "execute_result"
    }
   ],
   "source": [
    "stat = session.query(Station).all()\n",
    "len(stat), type(stat)"
   ]
  },
  {
   "cell_type": "code",
   "execution_count": 10,
   "metadata": {},
   "outputs": [
    {
     "data": {
      "text/plain": [
       "(list, 794)"
      ]
     },
     "execution_count": 10,
     "metadata": {},
     "output_type": "execute_result"
    }
   ],
   "source": [
    "#Precipitation Analysis\n",
    "precipitation= session.query(Measurement.date, Measurement.prcp)\\\n",
    ".filter(Measurement.date >= (dt.date.today() - dt.timedelta(days=365))).all()\n",
    "type(precipitation), len(precipitation)"
   ]
  },
  {
   "cell_type": "code",
   "execution_count": 11,
   "metadata": {
    "collapsed": true
   },
   "outputs": [],
   "source": [
    "# convert into dataframe\n",
    "prec_df=pd.DataFrame(precipitation).set_index('date')"
   ]
  },
  {
   "cell_type": "code",
   "execution_count": 12,
   "metadata": {},
   "outputs": [
    {
     "data": {
      "text/html": [
       "<div>\n",
       "<style scoped>\n",
       "    .dataframe tbody tr th:only-of-type {\n",
       "        vertical-align: middle;\n",
       "    }\n",
       "\n",
       "    .dataframe tbody tr th {\n",
       "        vertical-align: top;\n",
       "    }\n",
       "\n",
       "    .dataframe thead th {\n",
       "        text-align: right;\n",
       "    }\n",
       "</style>\n",
       "<table border=\"1\" class=\"dataframe\">\n",
       "  <thead>\n",
       "    <tr style=\"text-align: right;\">\n",
       "      <th></th>\n",
       "      <th>prcp</th>\n",
       "    </tr>\n",
       "    <tr>\n",
       "      <th>date</th>\n",
       "      <th></th>\n",
       "    </tr>\n",
       "  </thead>\n",
       "  <tbody>\n",
       "    <tr>\n",
       "      <th>2017-04-08</th>\n",
       "      <td>0.0</td>\n",
       "    </tr>\n",
       "    <tr>\n",
       "      <th>2017-04-09</th>\n",
       "      <td>0.0</td>\n",
       "    </tr>\n",
       "    <tr>\n",
       "      <th>2017-04-10</th>\n",
       "      <td>0.0</td>\n",
       "    </tr>\n",
       "    <tr>\n",
       "      <th>2017-04-11</th>\n",
       "      <td>0.0</td>\n",
       "    </tr>\n",
       "    <tr>\n",
       "      <th>2017-04-12</th>\n",
       "      <td>0.0</td>\n",
       "    </tr>\n",
       "  </tbody>\n",
       "</table>\n",
       "</div>"
      ],
      "text/plain": [
       "            prcp\n",
       "date            \n",
       "2017-04-08   0.0\n",
       "2017-04-09   0.0\n",
       "2017-04-10   0.0\n",
       "2017-04-11   0.0\n",
       "2017-04-12   0.0"
      ]
     },
     "execution_count": 12,
     "metadata": {},
     "output_type": "execute_result"
    }
   ],
   "source": [
    "prec_df.head()"
   ]
  },
  {
   "cell_type": "code",
   "execution_count": 13,
   "metadata": {},
   "outputs": [
    {
     "data": {
      "image/png": "[encoded data removed]",
      "text/plain": [
       "<matplotlib.figure.Figure at 0x113c0ff98>"
      ]
     },
     "metadata": {},
     "output_type": "display_data"
    }
   ],
   "source": [
    "#Plot the results using the DataFrame plot method.\n",
    "\n",
    "x = range(len(prec_df.index.values))\n",
    "y = prec_df[\"prcp\"]\n",
    "plt.bar(x, y,width=20)\n",
    "labels= prec_df.index.values\n",
    "plt.xticks(range(len(prec_df.index.values)), labels, rotation=45)\n",
    "plt.title(\"Precipitation\")\n",
    "plt.legend(prec_df)\n",
    "plt.locator_params(nbins=12, axis= \"x\")\n",
    "plt.ylabel('Inches')\n",
    "sns.set()\n",
    "plt.show()"
   ]
  },
  {
   "cell_type": "code",
   "execution_count": 14,
   "metadata": {},
   "outputs": [
    {
     "data": {
      "text/plain": [
       "9"
      ]
     },
     "execution_count": 14,
     "metadata": {},
     "output_type": "execute_result"
    }
   ],
   "source": [
    "# Design a query to calculate the total number of stations.\n",
    "stat = session.query(Station).all()\n",
    "len(stat)"
   ]
  },
  {
   "cell_type": "code",
   "execution_count": 15,
   "metadata": {},
   "outputs": [
    {
     "data": {
      "text/plain": [
       "[('USC00519397', 203083),\n",
       " ('USC00519523', 198957),\n",
       " ('USC00519281', 198652),\n",
       " ('USC00513117', 196915),\n",
       " ('USC00516128', 185230),\n",
       " ('USC00514830', 164871),\n",
       " ('USC00511918', 141728),\n",
       " ('USC00517948', 102467),\n",
       " ('USC00518838', 37162)]"
      ]
     },
     "execution_count": 15,
     "metadata": {},
     "output_type": "execute_result"
    }
   ],
   "source": [
    "# Design a query to find the most active stations.\n",
    "# List the stations and observation counts in descending order\n",
    "# Which station has the highest number of observations?\n",
    "precipitation2= session.query(Measurement.station,func.sum(Measurement.tobs))\\\n",
    ".group_by(Measurement.station).order_by(func.sum(Measurement.tobs).desc()).all()\n",
    "precipitation2"
   ]
  },
  {
   "cell_type": "code",
   "execution_count": 16,
   "metadata": {},
   "outputs": [
    {
     "data": {
      "text/plain": [
       "[('2017-04-08', 77),\n",
       " ('2017-04-09', 72),\n",
       " ('2017-04-10', 75),\n",
       " ('2017-04-11', 79),\n",
       " ('2017-04-12', 78),\n",
       " ('2017-04-13', 77),\n",
       " ('2017-04-14', 75),\n",
       " ('2017-04-15', 73),\n",
       " ('2017-04-16', 74),\n",
       " ('2017-04-17', 74),\n",
       " ('2017-04-18', 75),\n",
       " ('2017-04-19', 74),\n",
       " ('2017-04-20', 78),\n",
       " ('2017-04-21', 73),\n",
       " ('2017-04-22', 76),\n",
       " ('2017-04-23', 77),\n",
       " ('2017-04-24', 77),\n",
       " ('2017-04-25', 77),\n",
       " ('2017-04-26', 77),\n",
       " ('2017-04-27', 78),\n",
       " ('2017-04-28', 76),\n",
       " ('2017-04-29', 72),\n",
       " ('2017-04-30', 63),\n",
       " ('2017-05-01', 75),\n",
       " ('2017-05-02', 78),\n",
       " ('2017-05-03', 78),\n",
       " ('2017-05-04', 78),\n",
       " ('2017-05-05', 79),\n",
       " ('2017-05-06', 79),\n",
       " ('2017-05-07', 79),\n",
       " ('2017-05-08', 77),\n",
       " ('2017-05-10', 78),\n",
       " ('2017-05-11', 78),\n",
       " ('2017-05-12', 79),\n",
       " ('2017-05-13', 79),\n",
       " ('2017-05-14', 77),\n",
       " ('2017-05-15', 78),\n",
       " ('2017-05-16', 78),\n",
       " ('2017-05-17', 78),\n",
       " ('2017-05-18', 73),\n",
       " ('2017-05-19', 76),\n",
       " ('2017-05-20', 78),\n",
       " ('2017-05-21', 76),\n",
       " ('2017-05-22', 77),\n",
       " ('2017-05-23', 87),\n",
       " ('2017-05-24', 77),\n",
       " ('2017-05-25', 77),\n",
       " ('2017-05-27', 74),\n",
       " ('2017-05-28', 76),\n",
       " ('2017-05-29', 75),\n",
       " ('2017-05-30', 76),\n",
       " ('2017-05-31', 79),\n",
       " ('2017-06-01', 79),\n",
       " ('2017-06-02', 79),\n",
       " ('2017-06-03', 79),\n",
       " ('2017-06-04', 79),\n",
       " ('2017-06-05', 80),\n",
       " ('2017-06-06', 79),\n",
       " ('2017-06-07', 79),\n",
       " ('2017-06-08', 80),\n",
       " ('2017-06-09', 80),\n",
       " ('2017-06-10', 77),\n",
       " ('2017-06-11', 79),\n",
       " ('2017-06-12', 83),\n",
       " ('2017-06-13', 80),\n",
       " ('2017-06-14', 80),\n",
       " ('2017-06-15', 78),\n",
       " ('2017-06-16', 79),\n",
       " ('2017-06-17', 80),\n",
       " ('2017-06-18', 77),\n",
       " ('2017-06-19', 80),\n",
       " ('2017-06-20', 78),\n",
       " ('2017-06-21', 79),\n",
       " ('2017-06-22', 80),\n",
       " ('2017-06-23', 78),\n",
       " ('2017-06-24', 80),\n",
       " ('2017-06-25', 80),\n",
       " ('2017-06-26', 81),\n",
       " ('2017-06-27', 80),\n",
       " ('2017-06-28', 79),\n",
       " ('2017-06-29', 79),\n",
       " ('2017-06-30', 75),\n",
       " ('2017-07-01', 80),\n",
       " ('2017-07-02', 80),\n",
       " ('2017-07-03', 78),\n",
       " ('2017-07-04', 80),\n",
       " ('2017-07-05', 80),\n",
       " ('2017-07-06', 81),\n",
       " ('2017-07-07', 79),\n",
       " ('2017-07-08', 80),\n",
       " ('2017-07-09', 80),\n",
       " ('2017-07-10', 80),\n",
       " ('2017-07-11', 78),\n",
       " ('2017-07-12', 81),\n",
       " ('2017-07-13', 79),\n",
       " ('2017-07-14', 81),\n",
       " ('2017-07-15', 80),\n",
       " ('2017-07-16', 78),\n",
       " ('2017-07-17', 80),\n",
       " ('2017-07-18', 80),\n",
       " ('2017-07-20', 80),\n",
       " ('2017-07-21', 80),\n",
       " ('2017-07-22', 81),\n",
       " ('2017-07-23', 81),\n",
       " ('2017-07-24', 78),\n",
       " ('2017-07-25', 80),\n",
       " ('2017-07-26', 82),\n",
       " ('2017-07-27', 79),\n",
       " ('2017-07-28', 81),\n",
       " ('2017-07-29', 81),\n",
       " ('2017-07-30', 81),\n",
       " ('2017-07-31', 80),\n",
       " ('2017-08-01', 77),\n",
       " ('2017-08-02', 73),\n",
       " ('2017-08-03', 79),\n",
       " ('2017-08-04', 80),\n",
       " ('2017-08-05', 81),\n",
       " ('2017-08-06', 80),\n",
       " ('2017-08-07', 80),\n",
       " ('2017-08-08', 80),\n",
       " ('2017-08-09', 80),\n",
       " ('2017-08-10', 81),\n",
       " ('2017-08-11', 78),\n",
       " ('2017-08-12', 80),\n",
       " ('2017-08-13', 81),\n",
       " ('2017-08-14', 79),\n",
       " ('2017-08-15', 78),\n",
       " ('2017-08-18', 80),\n",
       " ('2017-08-19', 79),\n",
       " ('2017-08-20', 81),\n",
       " ('2017-08-21', 81),\n",
       " ('2017-08-22', 82),\n",
       " ('2017-08-23', 81)]"
      ]
     },
     "execution_count": 16,
     "metadata": {},
     "output_type": "execute_result"
    }
   ],
   "source": [
    "# Design a query to retrieve the last 12 months of temperature observation data (tobs).\n",
    "  # Filter by the station with the highest number of observations.\n",
    "  # Plot the results as a histogram with `bins=12`.\n",
    "\n",
    "tobs_12_months= session.query(Measurement.date, Measurement.tobs)\\\n",
    ".filter(Measurement.station == \"USC00519397\").filter(Measurement.date >= (dt.date.today()\\\n",
    "                                                                          - dt.timedelta(days=365))).all() \n",
    "tobs_12_months"
   ]
  },
  {
   "cell_type": "code",
   "execution_count": 17,
   "metadata": {},
   "outputs": [
    {
     "data": {
      "text/plain": [
       "list"
      ]
     },
     "execution_count": 17,
     "metadata": {},
     "output_type": "execute_result"
    }
   ],
   "source": [
    "type(tobs_12_months)"
   ]
  },
  {
   "cell_type": "code",
   "execution_count": 18,
   "metadata": {},
   "outputs": [
    {
     "data": {
      "text/html": [
       "<div>\n",
       "<style scoped>\n",
       "    .dataframe tbody tr th:only-of-type {\n",
       "        vertical-align: middle;\n",
       "    }\n",
       "\n",
       "    .dataframe tbody tr th {\n",
       "        vertical-align: top;\n",
       "    }\n",
       "\n",
       "    .dataframe thead th {\n",
       "        text-align: right;\n",
       "    }\n",
       "</style>\n",
       "<table border=\"1\" class=\"dataframe\">\n",
       "  <thead>\n",
       "    <tr style=\"text-align: right;\">\n",
       "      <th></th>\n",
       "      <th>tobs</th>\n",
       "    </tr>\n",
       "    <tr>\n",
       "      <th>date</th>\n",
       "      <th></th>\n",
       "    </tr>\n",
       "  </thead>\n",
       "  <tbody>\n",
       "    <tr>\n",
       "      <th>2017-04-08</th>\n",
       "      <td>77</td>\n",
       "    </tr>\n",
       "    <tr>\n",
       "      <th>2017-04-09</th>\n",
       "      <td>72</td>\n",
       "    </tr>\n",
       "    <tr>\n",
       "      <th>2017-04-10</th>\n",
       "      <td>75</td>\n",
       "    </tr>\n",
       "    <tr>\n",
       "      <th>2017-04-11</th>\n",
       "      <td>79</td>\n",
       "    </tr>\n",
       "    <tr>\n",
       "      <th>2017-04-12</th>\n",
       "      <td>78</td>\n",
       "    </tr>\n",
       "  </tbody>\n",
       "</table>\n",
       "</div>"
      ],
      "text/plain": [
       "            tobs\n",
       "date            \n",
       "2017-04-08    77\n",
       "2017-04-09    72\n",
       "2017-04-10    75\n",
       "2017-04-11    79\n",
       "2017-04-12    78"
      ]
     },
     "execution_count": 18,
     "metadata": {},
     "output_type": "execute_result"
    }
   ],
   "source": [
    "tobs12 = pd.DataFrame(tobs_12_months).set_index('date')\n",
    "tobs12.head()"
   ]
  },
  {
   "cell_type": "code",
   "execution_count": 19,
   "metadata": {},
   "outputs": [
    {
     "data": {
      "image/png": "[encoded data removed]",
      "text/plain": [
       "<matplotlib.figure.Figure at 0x113c0fb70>"
      ]
     },
     "metadata": {},
     "output_type": "display_data"
    }
   ],
   "source": [
    "  # Plot the results as a histogram with `bins=12`.\n",
    "bins = 12\n",
    "x= tobs12['tobs']\n",
    "plt.hist(x,bins, color='orange')\n",
    "plt.legend(tobs12)\n",
    "plt.ylabel('Number of Observations')\n",
    "\n",
    "plt.show()"
   ]
  },
  {
   "cell_type": "code",
   "execution_count": 20,
   "metadata": {},
   "outputs": [
    {
     "data": {
      "text/plain": [
       "([(65)], [(80)], [(73.48543689320388)])"
      ]
     },
     "execution_count": 20,
     "metadata": {},
     "output_type": "execute_result"
    }
   ],
   "source": [
    "# Write a function called calc_temps that will accept a start date and end date in the \n",
    "# format %Y-%m-%d and return the minimum, average, and maximum temperatures for that range of dates.\n",
    "start_date='2017-03-15'\n",
    "end_date='2017-03-31'\n",
    "\n",
    "\n",
    "def calc_temps (start, end):\n",
    "    min_temp = session.query(func.min(Measurement.tobs)).filter(Measurement.date >= start).filter(Measurement.date <= end).all()\n",
    "    avg_temp = session.query(func.avg(Measurement.tobs)).filter(Measurement.date >= start).filter(Measurement.date <= end).all()\n",
    "    max_temp = session.query(func.max(Measurement.tobs)).filter(Measurement.date >= start).filter(Measurement.date <= end).all()\n",
    "    \n",
    "    return min_temp, max_temp, avg_temp\n",
    "    \n",
    "temperature = calc_temps(start_date, end_date)\n",
    "temperature"
   ]
  },
  {
   "cell_type": "code",
   "execution_count": 21,
   "metadata": {},
   "outputs": [
    {
     "data": {
      "text/plain": [
       "15"
      ]
     },
     "execution_count": 21,
     "metadata": {},
     "output_type": "execute_result"
    }
   ],
   "source": [
    "#Plot the min, avg, and max temperature from your previous query as a bar chart.\n",
    "#Use the average temperature as the bar height.\n",
    "#Use the peak-to-peak (tmax-tmin) value as the y error bar (yerr).\n",
    "\n",
    "avgb= temperature[2][0][0]\n",
    "maxb= temperature[1][0][0]\n",
    "minb= temperature[0][0][0]\n",
    "tbs= maxb-minb\n",
    "tbs"
   ]
  },
  {
   "cell_type": "code",
   "execution_count": 22,
   "metadata": {},
   "outputs": [
    {
     "data": {
      "image/png": "[encoded data removed]",
      "text/plain": [
       "<matplotlib.figure.Figure at 0x1140e5fd0>"
      ]
     },
     "metadata": {},
     "output_type": "display_data"
    }
   ],
   "source": [
    "plt.bar(maxb,height=avgb, yerr=tbs, color='orange')\n",
    "plt.gca().xaxis.set_major_locator(plt.NullLocator())\n",
    "plt.title('Trip Avg Temp')\n",
    "plt.ylabel('Temp (F)')\n",
    "plt.show()"
   ]
  },
  {
   "cell_type": "code",
   "execution_count": null,
   "metadata": {
    "collapsed": true
   },
   "outputs": [],
   "source": []
  }
 ],
 "metadata": {
  "kernelspec": {
   "display_name": "pythondata2",
   "language": "python",
   "name": "pythondata"
  },
  "language_info": {
   "codemirror_mode": {
    "name": "ipython",
    "version": 3
   },
   "file_extension": ".py",
   "mimetype": "text/x-python",
   "name": "python",
   "nbconvert_exporter": "python",
   "pygments_lexer": "ipython3",
   "version": "3.6.4"
  }
 },
 "nbformat": 4,
 "nbformat_minor": 2
}
